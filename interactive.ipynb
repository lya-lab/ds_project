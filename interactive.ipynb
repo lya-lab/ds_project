{
 "cells": [
  {
   "cell_type": "code",
   "execution_count": 2,
   "id": "387cd9ef-18c2-4ca4-9a60-8596ca41dbf8",
   "metadata": {},
   "outputs": [],
   "source": [
    "import numpy as np\n",
    "import matplotlib.pyplot as plt"
   ]
  },
  {
   "cell_type": "code",
   "execution_count": 4,
   "id": "ac0c472d-4662-4c46-9ec5-68551fff51a9",
   "metadata": {},
   "outputs": [],
   "source": [
    "merged_array = np.merged_array = np.load('merged_array.npy')\n",
    "reshaped_array = merged_array.reshape(40, 250, 40, 250).transpose(0, 2, 1, 3)\n",
    "labels = np.zeros((40, 40), dtype=int)"
   ]
  },
  {
   "cell_type": "code",
   "execution_count": 6,
   "id": "c63759e9-af88-40ef-8357-51402cef6477",
   "metadata": {},
   "outputs": [
    {
     "name": "stdout",
     "output_type": "stream",
     "text": [
      "Using matplotlib backend: QtAgg\n"
     ]
    },
    {
     "data": {
      "text/plain": [
       "<contextlib.ExitStack at 0x1fcb4949f50>"
      ]
     },
     "execution_count": 6,
     "metadata": {},
     "output_type": "execute_result"
    },
    {
     "name": "stdout",
     "output_type": "stream",
     "text": [
      "Labeled block (33, 38) with river\n"
     ]
    }
   ],
   "source": [
    "%matplotlib\n",
    "plt.ion() \n",
    "\n",
    "\n",
    "def show_image_with_blocks(reshaped_array, labels):\n",
    "    fig, ax = plt.subplots(figsize=(10, 10))\n",
    "    # 拼接所有的 blocks 以显示为一个大图像\n",
    "    full_image = np.block([[reshaped_array[i, j] for j in range(40)] for i in range(40)])\n",
    "    \n",
    "    # 显示图像，并添加颜色条\n",
    "    cax = ax.imshow(full_image, cmap='terrain')\n",
    "    plt.colorbar(cax, ax=ax, shrink=0.8, label='Elevation (m)')\n",
    "    \n",
    "    # 添加网格线\n",
    "    ax.set_xticks(np.arange(0, 10000, 250))\n",
    "    ax.set_yticks(np.arange(0, 10000, 250))\n",
    "    ax.grid(color='white', linestyle='-', linewidth=0.5)\n",
    "    \n",
    "    # 显示刻度标签\n",
    "    ax.set_xticklabels(np.arange(0, 40))\n",
    "    ax.set_yticklabels(np.arange(0, 40))\n",
    "    \n",
    "    ax.set_title('Click to label blocks')\n",
    "\n",
    "    # 显示初始标签\n",
    "    for i in range(40):\n",
    "        for j in range(40):\n",
    "            ax.text(i * 250 + 125, j * 250 + 125, str(labels[j, i]),  # 这里需要注意顺序，labels[j, i] 与 grid 的 x 和 y 对应\n",
    "                    color='red', ha='center', va='center')\n",
    "    \n",
    "    # 鼠标点击事件处理\n",
    "    def on_click(event):\n",
    "        if event.inaxes is not None:\n",
    "            # 获取点击的坐标\n",
    "            x, y = int(event.xdata), int(event.ydata)\n",
    "            # 计算点击的 block 位置\n",
    "            block_x, block_y = x // 250, y // 250\n",
    "            \n",
    "            # 根据鼠标按钮设置标签\n",
    "            if event.button == 1:  # 左键\n",
    "                labels[block_y, block_x] = 2  # 河流\n",
    "                print(f\"Labeled block ({block_x}, {block_y}) with river\")\n",
    "            elif event.button == 3:  # 右键\n",
    "                labels[block_y, block_x] = 1  # 山\n",
    "                print(f\"Labeled block ({block_x}, {block_y}) with mountain\")\n",
    "            else:  # 其他情况默认平地\n",
    "                labels[block_y, block_x] = 0  # 平地\n",
    "                print(f\"Labeled block ({block_x}, {block_y}) with plain\")\n",
    "            \n",
    "            # 更新标签显示\n",
    "            ax.text(block_x * 250 + 125, block_y * 250 + 125, str(labels[block_y, block_x]),\n",
    "                    color='red', ha='center', va='center', fontsize=8, weight='bold')\n",
    "            plt.draw()\n",
    "\n",
    "    # 连接事件处理\n",
    "    cid = fig.canvas.mpl_connect('button_press_event', on_click)\n",
    "    plt.show()\n",
    "\n",
    "show_image_with_blocks(reshaped_array, labels)\n",
    "plt.ioff()  # 关闭交互模式"
   ]
  },
  {
   "cell_type": "code",
   "execution_count": 9,
   "id": "53e47f08-6ad3-459d-86c5-1aa27039c6db",
   "metadata": {},
   "outputs": [],
   "source": [
    "\n",
    "plt.figure(figsize=(8, 8))\n",
    "cmap = 'terrain'\n",
    "\n",
    "plt.imshow(labels, cmap=cmap)\n",
    "plt.colorbar(shrink=0.8, label='Average Elevation (m)')\n",
    "plt.title('Block Average Data (40x40)')\n",
    "\n",
    "plt.show()"
   ]
  },
  {
   "cell_type": "code",
   "execution_count": 10,
   "id": "bb3817c6-4aae-46ec-b2a7-993bc7ae09a2",
   "metadata": {},
   "outputs": [],
   "source": [
    "np.save('labels.npy', labels)"
   ]
  }
 ],
 "metadata": {
  "kernelspec": {
   "display_name": "Anaconda (base)",
   "language": "python",
   "name": "anaconda_env"
  },
  "language_info": {
   "codemirror_mode": {
    "name": "ipython",
    "version": 3
   },
   "file_extension": ".py",
   "mimetype": "text/x-python",
   "name": "python",
   "nbconvert_exporter": "python",
   "pygments_lexer": "ipython3",
   "version": "3.11.5"
  }
 },
 "nbformat": 4,
 "nbformat_minor": 5
}
